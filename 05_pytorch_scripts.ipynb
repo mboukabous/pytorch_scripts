{
  "cells": [
    {
      "cell_type": "markdown",
      "metadata": {
        "id": "view-in-github",
        "colab_type": "text"
      },
      "source": [
        "<a href=\"https://colab.research.google.com/github/mboukabous/pytorch_scripts/blob/main/05_pytorch_scripts.ipynb\" target=\"_parent\"><img src=\"https://colab.research.google.com/assets/colab-badge.svg\" alt=\"Open In Colab\"/></a>"
      ]
    },
    {
      "cell_type": "code",
      "source": [
        "# Create a script directory\n",
        "import os\n",
        "os.makedirs(\"scripts\")"
      ],
      "metadata": {
        "id": "849vwSKFBQ_2"
      },
      "execution_count": null,
      "outputs": []
    },
    {
      "cell_type": "markdown",
      "metadata": {
        "id": "1XgXFr97bCsI"
      },
      "source": [
        "## 1. Get data"
      ]
    },
    {
      "cell_type": "code",
      "execution_count": null,
      "metadata": {
        "colab": {
          "base_uri": "https://localhost:8080/"
        },
        "id": "wl_jfPzVbGDS",
        "outputId": "b803131f-c55d-4f98-ef8c-0d8e430e9ded"
      },
      "outputs": [
        {
          "output_type": "stream",
          "name": "stdout",
          "text": [
            "Writing scripts/get_data.py\n"
          ]
        }
      ],
      "source": [
        "%%writefile scripts/get_data.py\n",
        "\"\"\"\n",
        "Setup train and test directories for images.\n",
        "\"\"\"\n",
        "import os\n",
        "import zipfile\n",
        "from typing import Tuple\n",
        "\n",
        "from pathlib import Path\n",
        "import requests\n",
        "\n",
        "def download_data(web_link: str) -> Tuple[Path, Path]:\n",
        "  \"\"\"\n",
        "  Download data from the internet as zip file and extract it\n",
        "  to get train and test paths.\n",
        "\n",
        "  Args:\n",
        "    web_link: dataset url in the web (raw zip if using github links)\n",
        "\n",
        "  Returns:\n",
        "    A tuple of (train_path, test_path)\n",
        "\n",
        "  Example usage:\n",
        "    train_dir, test_dir = download_data(web_link=data_link)\n",
        "  \"\"\"\n",
        "\n",
        "  # Setup path to data folder\n",
        "  data_path = Path(\"data/\")\n",
        "  zip_name = web_link.split(\"/\")[-1]\n",
        "  data_name = zip_name.split(\".\")[0]\n",
        "\n",
        "  zip_path = data_path / zip_name\n",
        "  image_path = data_path / data_name\n",
        "\n",
        "  # If the image folder doesn't exist, download it and prepare it...\n",
        "  if image_path.is_dir():\n",
        "      print(f\"{image_path} directory exists.\")\n",
        "  else:\n",
        "      print(f\"Did not find {image_path} directory, creating one...\")\n",
        "      image_path.mkdir(parents=True, exist_ok=True)\n",
        "\n",
        "  # Download web data\n",
        "  with open(zip_path, \"wb\") as f:\n",
        "      request = requests.get(web_link)\n",
        "      print(f\"Downloading {data_name} data...\")\n",
        "      f.write(request.content)\n",
        "\n",
        "  # Unzip pizza, steak, sushi data\n",
        "  with zipfile.ZipFile(zip_path, \"r\") as zip_ref:\n",
        "      print(f\"Unzipping {data_name} data...\")\n",
        "      zip_ref.extractall(image_path)\n",
        "\n",
        "  # Remove zip file\n",
        "  os.remove(zip_path)\n",
        "\n",
        "  # Setup train and testing paths\n",
        "  train_dir = image_path / \"train\"\n",
        "  test_dir = image_path / \"test\"\n",
        "\n",
        "  return train_dir, test_dir\n",
        "\n",
        "def local_data(local_link: str) -> Tuple[Path, Path]:\n",
        "  \"\"\"\n",
        "  Get train and test paths from a local dataset\n",
        "\n",
        "  Args:\n",
        "    local_link: dataset local url\n",
        "\n",
        "  Returns:\n",
        "    A tuple of (train_path, test_path)\n",
        "\n",
        "  Example usage:\n",
        "    train_dir, test_dir = local_data(local_link=data_link)\n",
        "  \"\"\"\n",
        "\n",
        "  # Setup path to data folder\n",
        "  image_path = Path(local_link)\n",
        "\n",
        "  # If the image folder doesn't exist, raise an error\n",
        "  assert not image_path.is_dir(), \"Dataset doesn't exist, please enter a correct url\"\n",
        "\n",
        "  # Setup train and testing paths\n",
        "  train_dir = image_path / \"train\"\n",
        "  test_dir = image_path / \"test\"\n",
        "\n",
        "  return train_dir, test_dir"
      ]
    },
    {
      "cell_type": "markdown",
      "metadata": {
        "id": "eYL6NynybU9Z"
      },
      "source": [
        "## 2. Create Datasets and DataLoaders"
      ]
    },
    {
      "cell_type": "code",
      "source": [
        "%%writefile scripts/data_setup.py\n",
        "\"\"\"\n",
        "Contains functionality for creating PyTorch DataLoader's for\n",
        "Image classification data.\n",
        "\"\"\"\n",
        "import os\n",
        "from torchvision import datasets, transforms\n",
        "from torch.utils.data import DataLoader\n",
        "\n",
        "NUM_WORKERS = os.cpu_count()\n",
        "\n",
        "def create_dataloaders(train_dir: str, test_dir: str, batch_size: int,\n",
        "                       train_transform: transforms.Compose=None, test_transform: transforms.Compose=None,\n",
        "                       img_size: tuple=None, num_workers: int=NUM_WORKERS):\n",
        "  \"\"\"\n",
        "  Creates training and testing DataLoders\n",
        "  Takes in training and testing dir paths with other params\n",
        "  And turns them into PyTorch Dataset and DataLoaders.\n",
        "\n",
        "  Args:\n",
        "    train_dir: Path to training directory.\n",
        "    test_dir: Path to testing directory.\n",
        "    batch_size: Number of samples per batch in each DataLoader.\n",
        "    train_transform: transforms to perform on training data.\n",
        "    test_transform: transforms to perform on testing data.\n",
        "    img_size: a tuple used to create a simple transform in case train_transform or test_transform is None.\n",
        "    num_workers: An integer for number of workers per DataLoader (default is CPU number available).\n",
        "\n",
        "  Returns:\n",
        "    A tuple of (train_dataloader, test_dataloader, class_names).\n",
        "\n",
        "  Example usage:\n",
        "    train_dataloader, test_dataloader, class_names = create_dataloaders(\n",
        "      train_dir=path/to/train_dir, test_dir=path/to/test_dir,\n",
        "      train_transform=some_transforms_compose, test_transform=some_transforms_compose,\n",
        "      batch_size=32, num_workers=4)\n",
        "  \"\"\"\n",
        "  # Check is a transform exist, otherwise create a simple one using img_size\n",
        "  if not train_transform:\n",
        "    train_transform = transforms.Compose([\n",
        "      transforms.Resize(img_size),\n",
        "      transforms.ToTensor()\n",
        "    ])\n",
        "  if not test_transform:\n",
        "    test_transform = transforms.Compose([\n",
        "      transforms.Resize(img_size),\n",
        "      transforms.ToTensor()\n",
        "    ])\n",
        "\n",
        "  # Use ImageFolder to create dataset(s)\n",
        "  train_data = datasets.ImageFolder(root=train_dir, # target folder of images\n",
        "                                    transform=train_transform, # transforms to perform on data (images)\n",
        "                                    target_transform=None) # transforms to perform on labels (if necessary)\n",
        "  test_data = datasets.ImageFolder(root=test_dir, transform=test_transform)\n",
        "\n",
        "  # Get the class_names\n",
        "  class_names = train_data.classes\n",
        "\n",
        "  # Turn images into DataLoaders\n",
        "  train_dataloader = DataLoader(dataset=train_data,\n",
        "                                batch_size=batch_size, # how many samples per batch?\n",
        "                                num_workers=num_workers, # how many subprocesses to use for data loading?\n",
        "                                shuffle=True, # shuffle the data?\n",
        "                                pin_memory=True) # enable fast data transfer to CUDA-GPU\n",
        "  test_dataloader = DataLoader(dataset=test_data,\n",
        "                               batch_size=batch_size,\n",
        "                               num_workers=num_workers,\n",
        "                               shuffle=False, # don't usually need to shuffle testing data\n",
        "                               pin_memory=True)\n",
        "\n",
        "  return train_dataloader, test_dataloader, class_names"
      ],
      "metadata": {
        "colab": {
          "base_uri": "https://localhost:8080/"
        },
        "id": "W51kuTHVtf7d",
        "outputId": "6daee57b-d3dc-428a-c640-1dc39ff58b48"
      },
      "execution_count": null,
      "outputs": [
        {
          "output_type": "stream",
          "name": "stdout",
          "text": [
            "Writing scripts/data_setup.py\n"
          ]
        }
      ]
    },
    {
      "cell_type": "markdown",
      "metadata": {
        "id": "gAQLp1dCbrY0"
      },
      "source": [
        "## 3. Making a model (TinyVGG)\n",
        "\n",
        "TinyVGG from the CNN Explainer website."
      ]
    },
    {
      "cell_type": "code",
      "source": [
        "%%writefile scripts/model_builder.py\n",
        "\"\"\"\n",
        "Contains PyTorch model code to instantiate a\n",
        "TinyVGG model.\n",
        "\"\"\"\n",
        "\n",
        "import torch\n",
        "from torch import nn\n",
        "\n",
        "class TinyVGG(nn.Module):\n",
        "  \"\"\"Creates the TinyVGG architecture.\n",
        "\n",
        "  Replicates the TinyVGG architecture from the CNN explainer website in PyTorch.\n",
        "  See the original architecture here: https://poloclub.github.io/cnn-explainer/\n",
        "\n",
        "  Args:\n",
        "    input_shape: An integer indicating number of input channels.\n",
        "    hidden_units: An integer indicating number of hidden units between layers.\n",
        "    output_shape: An integer indicating number of output units.\n",
        "  \"\"\"\n",
        "  def __init__(self, input_shape: int, hidden_units: int, output_shape: int) -> None:\n",
        "      super().__init__()\n",
        "      self.conv_block_1 = nn.Sequential(\n",
        "          nn.Conv2d(in_channels=input_shape,\n",
        "                    out_channels=hidden_units,\n",
        "                    kernel_size=3, # how big is the square that's going over the image?\n",
        "                    stride=1, # default\n",
        "                    padding=0), # options = \"valid\" (no padding) or \"same\" (output has same shape as input) or int for specific number\n",
        "          nn.ReLU(),\n",
        "          nn.Conv2d(in_channels=hidden_units, out_channels=hidden_units, kernel_size=3, stride=1, padding=0),\n",
        "          nn.ReLU(),\n",
        "          nn.MaxPool2d(kernel_size=2, stride=2) # default stride value is same as kernel_size\n",
        "      )\n",
        "      self.conv_block_2 = nn.Sequential(\n",
        "          nn.Conv2d(hidden_units, hidden_units, kernel_size=3, padding=0),\n",
        "          nn.ReLU(),\n",
        "          nn.Conv2d(hidden_units, hidden_units, kernel_size=3, padding=0),\n",
        "          nn.ReLU(),\n",
        "          nn.MaxPool2d(2)\n",
        "      )\n",
        "      self.classifier = nn.Sequential(\n",
        "          nn.Flatten(),\n",
        "          # Where did this in_features shape come from?\n",
        "          # It's because each layer of our network compresses and changes the shape of our inputs data.\n",
        "          nn.Linear(in_features=hidden_units*13*13, out_features=output_shape)\n",
        "      )\n",
        "\n",
        "  def forward(self, x: torch.Tensor):\n",
        "      \"\"\"x = self.conv_block_1(x)\n",
        "      x = self.conv_block_2(x)\n",
        "      x = self.classifier(x)\n",
        "      return x\"\"\"\n",
        "      return self.classifier(self.conv_block_2(self.conv_block_1(x))) # <- leverage the benefits of operator fusion"
      ],
      "metadata": {
        "colab": {
          "base_uri": "https://localhost:8080/"
        },
        "id": "Ig-po9QYwtwu",
        "outputId": "5194481d-6b4b-4a28-814d-59451b996424"
      },
      "execution_count": null,
      "outputs": [
        {
          "output_type": "stream",
          "name": "stdout",
          "text": [
            "Writing scripts/model_builder.py\n"
          ]
        }
      ]
    },
    {
      "cell_type": "markdown",
      "metadata": {
        "id": "8OB4xIsXcHrp"
      },
      "source": [
        "## 4. Creating `train_step()` and `test_step()` functions and `train()` to combine them  "
      ]
    },
    {
      "cell_type": "code",
      "execution_count": null,
      "metadata": {
        "id": "t_0zRYZecJZ6",
        "colab": {
          "base_uri": "https://localhost:8080/"
        },
        "outputId": "64cb5b10-4e79-4c76-b038-fd4a62caadd2"
      },
      "outputs": [
        {
          "output_type": "stream",
          "name": "stdout",
          "text": [
            "Writing scripts/engine.py\n"
          ]
        }
      ],
      "source": [
        "%%writefile scripts/engine.py\n",
        "\"\"\"\n",
        "Contains functions for training and testing a PyTorch model.\n",
        "\"\"\"\n",
        "\n",
        "from typing import Tuple, Dict, List\n",
        "from tqdm.auto import tqdm\n",
        "import torch\n",
        "\n",
        "def train_step(model: torch.nn.Module,\n",
        "               dataloader: torch.utils.data.DataLoader,\n",
        "               loss_fn: torch.nn.Module,\n",
        "               optimizer: torch.optim.Optimizer,\n",
        "               device: torch.device) -> Tuple[float, float]:\n",
        "  \"\"\"Trains a PyTorch model for a single epoch.\n",
        "\n",
        "  Turns a target PyTorch model to training mode and then\n",
        "  runs through all of the required training steps (forward\n",
        "  pass, loss calculation, optimizer step).\n",
        "\n",
        "  Args:\n",
        "    model: A PyTorch model to be trained.\n",
        "    dataloader: A DataLoader instance for the model to be trained on.\n",
        "    loss_fn: A PyTorch loss function to minimize.\n",
        "    optimizer: A PyTorch optimizer to help minimize the loss function.\n",
        "    device: A target device to compute on (e.g. \"cuda\" or \"cpu\").\n",
        "\n",
        "  Returns:\n",
        "    A tuple of training loss and training accuracy metrics.\n",
        "    In the form (train_loss, train_accuracy). For example:\n",
        "\n",
        "    (0.1112, 0.8743)\n",
        "  \"\"\"\n",
        "  # Put model in train mode\n",
        "  model.train()\n",
        "\n",
        "  # Setup train loss and train accuracy values\n",
        "  train_loss, train_acc = 0, 0\n",
        "\n",
        "  # Loop through data loader data batches\n",
        "  for batch, (X, y) in enumerate(dataloader):\n",
        "      # Send data to target device\n",
        "      X, y = X.to(device), y.to(device)\n",
        "\n",
        "      # 1. Forward pass\n",
        "      y_pred = model(X)\n",
        "\n",
        "      # 2. Calculate  and accumulate loss\n",
        "      loss = loss_fn(y_pred, y)\n",
        "      train_loss += loss.item()\n",
        "\n",
        "      # 3. Optimizer zero grad\n",
        "      optimizer.zero_grad()\n",
        "\n",
        "      # 4. Loss backward\n",
        "      loss.backward()\n",
        "\n",
        "      # 5. Optimizer step\n",
        "      optimizer.step()\n",
        "\n",
        "      # Calculate and accumulate accuracy metric across all batches\n",
        "      y_pred_class = torch.argmax(torch.softmax(y_pred, dim=1), dim=1)\n",
        "      train_acc += (y_pred_class == y).sum().item()/len(y_pred)\n",
        "\n",
        "  # Adjust metrics to get average loss and accuracy per batch\n",
        "  train_loss = train_loss / len(dataloader)\n",
        "  train_acc = train_acc / len(dataloader)\n",
        "  return train_loss, train_acc\n",
        "\n",
        "def test_step(model: torch.nn.Module,\n",
        "              dataloader: torch.utils.data.DataLoader,\n",
        "              loss_fn: torch.nn.Module,\n",
        "              device: torch.device) -> Tuple[float, float]:\n",
        "  \"\"\"Tests a PyTorch model for a single epoch.\n",
        "\n",
        "  Turns a target PyTorch model to \"eval\" mode and then performs\n",
        "  a forward pass on a testing dataset.\n",
        "\n",
        "  Args:\n",
        "    model: A PyTorch model to be tested.\n",
        "    dataloader: A DataLoader instance for the model to be tested on.\n",
        "    loss_fn: A PyTorch loss function to calculate loss on the test data.\n",
        "    device: A target device to compute on (e.g. \"cuda\" or \"cpu\").\n",
        "\n",
        "  Returns:\n",
        "    A tuple of testing loss and testing accuracy metrics.\n",
        "    In the form (test_loss, test_accuracy). For example:\n",
        "\n",
        "    (0.0223, 0.8985)\n",
        "  \"\"\"\n",
        "  # Put model in eval mode\n",
        "  model.eval()\n",
        "\n",
        "  # Setup test loss and test accuracy values\n",
        "  test_loss, test_acc = 0, 0\n",
        "\n",
        "  # Turn on inference context manager\n",
        "  with torch.inference_mode():\n",
        "      # Loop through DataLoader batches\n",
        "      for batch, (X, y) in enumerate(dataloader):\n",
        "          # Send data to target device\n",
        "          X, y = X.to(device), y.to(device)\n",
        "\n",
        "          # 1. Forward pass\n",
        "          test_pred_logits = model(X)\n",
        "\n",
        "          # 2. Calculate and accumulate loss\n",
        "          loss = loss_fn(test_pred_logits, y)\n",
        "          test_loss += loss.item()\n",
        "\n",
        "          # Calculate and accumulate accuracy\n",
        "          test_pred_labels = test_pred_logits.argmax(dim=1)\n",
        "          test_acc += ((test_pred_labels == y).sum().item()/len(test_pred_labels))\n",
        "\n",
        "  # Adjust metrics to get average loss and accuracy per batch\n",
        "  test_loss = test_loss / len(dataloader)\n",
        "  test_acc = test_acc / len(dataloader)\n",
        "  return test_loss, test_acc\n",
        "\n",
        "def train(model: torch.nn.Module,\n",
        "          train_dataloader: torch.utils.data.DataLoader,\n",
        "          test_dataloader: torch.utils.data.DataLoader,\n",
        "          optimizer: torch.optim.Optimizer,\n",
        "          loss_fn: torch.nn.Module,\n",
        "          epochs: int,\n",
        "          device: torch.device) -> Dict[str, List[float]]:\n",
        "  \"\"\"Trains and tests a PyTorch model.\n",
        "\n",
        "  Passes a target PyTorch models through train_step() and test_step()\n",
        "  functions for a number of epochs, training and testing the model\n",
        "  in the same epoch loop.\n",
        "\n",
        "  Calculates, prints and stores evaluation metrics throughout.\n",
        "\n",
        "  Args:\n",
        "    model: A PyTorch model to be trained and tested.\n",
        "    train_dataloader: A DataLoader instance for the model to be trained on.\n",
        "    test_dataloader: A DataLoader instance for the model to be tested on.\n",
        "    optimizer: A PyTorch optimizer to help minimize the loss function.\n",
        "    loss_fn: A PyTorch loss function to calculate loss on both datasets.\n",
        "    epochs: An integer indicating how many epochs to train for.\n",
        "    device: A target device to compute on (e.g. \"cuda\" or \"cpu\").\n",
        "\n",
        "  Returns:\n",
        "    A dictionary of training and testing loss as well as training and\n",
        "    testing accuracy metrics. Each metric has a value in a list for\n",
        "    each epoch.\n",
        "    In the form: {train_loss: [...],\n",
        "                  train_acc: [...],\n",
        "                  test_loss: [...],\n",
        "                  test_acc: [...]}\n",
        "    For example if training for epochs=2:\n",
        "                 {train_loss: [2.0616, 1.0537],\n",
        "                  train_acc: [0.3945, 0.3945],\n",
        "                  test_loss: [1.2641, 1.5706],\n",
        "                  test_acc: [0.3400, 0.2973]}\n",
        "  \"\"\"\n",
        "  # Create empty results dictionary\n",
        "  results = {\"train_loss\": [],\n",
        "      \"train_acc\": [],\n",
        "      \"test_loss\": [],\n",
        "      \"test_acc\": []\n",
        "  }\n",
        "\n",
        "  # Loop through training and testing steps for a number of epochs\n",
        "  for epoch in tqdm(range(epochs)):\n",
        "      train_loss, train_acc = train_step(model=model,\n",
        "                                         dataloader=train_dataloader,\n",
        "                                         loss_fn=loss_fn,\n",
        "                                         optimizer=optimizer,\n",
        "                                         device=device)\n",
        "      test_loss, test_acc = test_step(model=model,\n",
        "                                      dataloader=test_dataloader,\n",
        "                                      loss_fn=loss_fn,\n",
        "                                      device=device)\n",
        "\n",
        "      # Print out what's happening\n",
        "      print(\n",
        "          f\" Epoch: {epoch+1} | \"\n",
        "          f\"train_loss: {train_loss:.4f} | \"\n",
        "          f\"train_acc: {train_acc:.4f} | \"\n",
        "          f\"test_loss: {test_loss:.4f} | \"\n",
        "          f\"test_acc: {test_acc:.4f}\"\n",
        "      )\n",
        "\n",
        "      # Update results dictionary\n",
        "      results[\"train_loss\"].append(train_loss)\n",
        "      results[\"train_acc\"].append(train_acc)\n",
        "      results[\"test_loss\"].append(test_loss)\n",
        "      results[\"test_acc\"].append(test_acc)\n",
        "\n",
        "  # Return the filled results at the end of the epochs\n",
        "  return results"
      ]
    },
    {
      "cell_type": "markdown",
      "metadata": {
        "id": "AftIAK-zWR35"
      },
      "source": [
        "## 5. Creating a function to save the model and it's results"
      ]
    },
    {
      "cell_type": "code",
      "execution_count": null,
      "metadata": {
        "id": "rFRZw6BZWWcd",
        "colab": {
          "base_uri": "https://localhost:8080/"
        },
        "outputId": "1d86e2dd-f072-4fb9-eb79-d02cb2245e7a"
      },
      "outputs": [
        {
          "output_type": "stream",
          "name": "stdout",
          "text": [
            "Writing scripts/utils.py\n"
          ]
        }
      ],
      "source": [
        "%%writefile scripts/utils.py\n",
        "\"\"\"\n",
        "Contains various utility functions for PyTorch model training.\n",
        "\"\"\"\n",
        "\n",
        "import torch\n",
        "from pathlib import Path\n",
        "import pandas as pd\n",
        "\n",
        "def save_model(model: torch.nn.Module, target_dir: str, model_name: str):\n",
        "  \"\"\"\n",
        "  Saves a PyTorch model to a target directory.\n",
        "\n",
        "  Args:\n",
        "    model: A target PyTorch model to save.\n",
        "    target_dir: A directory for saving the model to.\n",
        "    model_name: A filename for the saved model. Should include\n",
        "      either \".pth\" or \".pt\" as the file extension.\n",
        "\n",
        "  Example usage:\n",
        "    save_model(model=model_0,\n",
        "               target_dir=\"models\",\n",
        "               model_name=\"05_going_modular_tingvgg_model.pth\")\n",
        "  \"\"\"\n",
        "  # Create target directory\n",
        "  target_dir_path = Path(target_dir)\n",
        "  target_dir_path.mkdir(parents=True, exist_ok=True)\n",
        "\n",
        "  # Create model save path\n",
        "  assert model_name.endswith(\".pth\") or model_name.endswith(\".pt\"), \"model_name should end with '.pt' or '.pth'\"\n",
        "  model_save_path = target_dir_path / model_name\n",
        "\n",
        "  # Save the model state_dict()\n",
        "  print(f\"[INFO] Saving model to: {model_save_path}\")\n",
        "  torch.save(obj=model.state_dict(), f=model_save_path)\n",
        "\n",
        "def save_results(results: dict, target_dir: str, model_name: str):\n",
        "  \"\"\"Saves a PyTorch model results to a target directory.\n",
        "\n",
        "  Args:\n",
        "    target_dir: A directory for saving the model to.\n",
        "    model_name: A filename for the saved model results.\n",
        "\n",
        "  Example usage:\n",
        "    save_model(model=model_name,\n",
        "               target_dir=\"results\",\n",
        "               model_name=\"model_name_results\")\n",
        "  \"\"\"\n",
        "  # Create target directory\n",
        "  target_dir_path = Path(target_dir)\n",
        "  target_dir_path.mkdir(parents=True, exist_ok=True)\n",
        "\n",
        "  # Create model results save path\n",
        "  model_save_path = target_dir_path / model_name\n",
        "\n",
        "  # Creating a dataframe from results dictionnary\n",
        "  results_df = pd.DataFrame(results)\n",
        "\n",
        "  # Save the model state_dict()\n",
        "  print(f\"[INFO] Saving results to: {model_save_path}\")\n",
        "  results_df.to_csv(model_save_path, index=False)\n",
        "\n",
        "def load_model(model: torch.nn.Module, model_path: str) -> torch.nn.Module:\n",
        "  \"\"\"\n",
        "  Load a PyTorch model parameters from a target path.\n",
        "\n",
        "  Args:\n",
        "    model_path: A path for loading the model from.\n",
        "\n",
        "  Example usage:\n",
        "    load_model(model_path=\"models/model_name.pth\")\n",
        "  \"\"\"\n",
        "  # Load the model state_dict()\n",
        "  print(f\"[INFO] Loading model from: {model_path}\")\n",
        "  model.load_state_dict(torch.load(model_path, weights_only=False))\n",
        "  return model"
      ]
    },
    {
      "cell_type": "markdown",
      "metadata": {
        "id": "20ZO64U2cZY_"
      },
      "source": [
        "## 6. Train, evaluate and save the model"
      ]
    },
    {
      "cell_type": "code",
      "source": [
        "%%writefile train.py\n",
        "\"\"\"\n",
        "Trains a PyTorch image classification model.\n",
        "\"\"\"\n",
        "\n",
        "# Importations\n",
        "import argparse\n",
        "import os\n",
        "import torch\n",
        "from torch import nn\n",
        "from torchvision import transforms\n",
        "from timeit import default_timer as timer\n",
        "import random\n",
        "from scripts import data_setup, engine, model_builder, utils, get_data\n",
        "\n",
        "# Setup Parser\n",
        "parser = argparse.ArgumentParser(prog='Model training', description='Train a model on custom data.')\n",
        "parser.add_argument('--epochs', type=int, default=10)\n",
        "parser.add_argument('--batch_size', type=int, default=32)\n",
        "parser.add_argument('--color_channels', type=int, default=3)\n",
        "parser.add_argument('--hidden_units', type=int, default=10)\n",
        "parser.add_argument('--lr', type=float, default=0.001)\n",
        "parser.add_argument('--img_size', type=int, default=64)\n",
        "\n",
        "parser.add_argument('--local', action='store_true')\n",
        "parser.add_argument('--url', type=str, default=\"data/dataset\")\n",
        "\n",
        "# Setup HyperParameters\n",
        "NUM_EPOCHS = parser.parse_args().epochs\n",
        "BATCH_SIZE = parser.parse_args().batch_size\n",
        "INPUT_SHAPE = parser.parse_args().color_channels\n",
        "HIDDEN_UNITS = parser.parse_args().hidden_units\n",
        "LEARNING_RATE = parser.parse_args().lr\n",
        "IMG_SIZE = (parser.parse_args().img_size,parser.parse_args().img_size)\n",
        "\n",
        "IS_LOCAL = parser.parse_args().local\n",
        "URL = parser.parse_args().url\n",
        "\n",
        "# Setup directories\n",
        "if IS_LOCAL:\n",
        "  train_dir, test_dir = get_data.local_data(URL)\n",
        "else:\n",
        "  train_dir, test_dir = get_data.download_data(URL)\n",
        "\n",
        "# Setup device agnostic code\n",
        "device = \"cuda\" if torch.cuda.is_available() else \"cpu\"\n",
        "\n",
        "# Create or import transforms here\n",
        "\n",
        "# Create dataLoaders\n",
        "train_dataloader, test_dataloader, class_names = data_setup.create_dataloaders(train_dir=train_dir,\n",
        "                                                                               test_dir=test_dir,\n",
        "                                                                               batch_size=BATCH_SIZE,\n",
        "                                                                               img_size=IMG_SIZE)\n",
        "                                                                               #train_transform=data_transform\n",
        "                                                                               #test_transform=data_transform\n",
        "\n",
        "# Recreate an instance of TinyVGG\n",
        "model = model_builder.TinyVGG(input_shape=INPUT_SHAPE,\n",
        "                              hidden_units=HIDDEN_UNITS,\n",
        "                              output_shape=len(class_names)).to(device)\n",
        "\n",
        "# Setup loss function and optimizer\n",
        "loss_fn = nn.CrossEntropyLoss()\n",
        "optimizer = torch.optim.Adam(params=model.parameters(), lr=LEARNING_RATE)\n",
        "\n",
        "# Start the timer\n",
        "start_time = timer()\n",
        "\n",
        "# Train model using engine.py\n",
        "model_results = engine.train(model=model,\n",
        "                             train_dataloader=train_dataloader,\n",
        "                             test_dataloader=test_dataloader,\n",
        "                             loss_fn=loss_fn,\n",
        "                             optimizer=optimizer,\n",
        "                             epochs=NUM_EPOCHS,\n",
        "                             device=device)\n",
        "\n",
        "# End the timer and print out how long it took\n",
        "end_time = timer()\n",
        "print(f\"[INFO] Total training time: {end_time-start_time:.3f} seconds\")\n",
        "\n",
        "# Save the model using utils.py\n",
        "models_dir = \"models\"\n",
        "results_dir = \"results\"\n",
        "model_name = f\"{model.__class__.__name__}_model_{NUM_EPOCHS}_ep_{LEARNING_RATE}_lr_{BATCH_SIZE}_bs_{HIDDEN_UNITS}_hu_{INPUT_SHAPE}_cc_{parser.parse_args().img_size}_img#{random.randint(1, 100)}\"\n",
        "\n",
        "utils.save_model(model=model, target_dir=models_dir, model_name=model_name+\".pth\")\n",
        "utils.save_results(results=model_results, target_dir=results_dir, model_name=model_name+\".csv\")"
      ],
      "metadata": {
        "colab": {
          "base_uri": "https://localhost:8080/"
        },
        "id": "eVa_5W7WmTCg",
        "outputId": "81e975f9-d81d-47c6-e1b5-2f67b6b6b072"
      },
      "execution_count": null,
      "outputs": [
        {
          "output_type": "stream",
          "name": "stdout",
          "text": [
            "Writing train.py\n"
          ]
        }
      ]
    },
    {
      "cell_type": "markdown",
      "source": [
        "## 7. Test a model"
      ],
      "metadata": {
        "id": "tEjr2fSnrJrf"
      }
    },
    {
      "cell_type": "code",
      "source": [
        "%%writefile test.py\n",
        "\"\"\"\n",
        "Test a PyTorch classification model\n",
        "\"\"\"\n",
        "\n",
        "#Importations\n",
        "import argparse\n",
        "import os\n",
        "import torch\n",
        "from torch import nn\n",
        "from torchvision import transforms\n",
        "from timeit import default_timer as timer\n",
        "import random\n",
        "from tqdm.auto import tqdm\n",
        "from scripts import data_setup, model_builder, utils, get_data\n",
        "\n",
        "# Setup Parser\n",
        "parser = argparse.ArgumentParser(prog='Model testing', description='Test a model on custom data.')\n",
        "\n",
        "parser.add_argument('--model', type=str, default=\"models/model.pth\")\n",
        "parser.add_argument('--local', action='store_true')\n",
        "parser.add_argument('--url', type=str, default=\"data/dataset\")\n",
        "\n",
        "# Setup HyperParameters\n",
        "MODEL_PATH = parser.parse_args().model\n",
        "IS_LOCAL = parser.parse_args().local\n",
        "URL = parser.parse_args().url\n",
        "\n",
        "# Get HyperParameters\n",
        "BATCH_SIZE = int(MODEL_PATH.split(\"_bs_\")[0].split(\"_\")[-1])\n",
        "HIDDEN_UNITS = int(MODEL_PATH.split(\"_hu\")[0].split(\"_\")[-1])\n",
        "IMG_SIZE = (int(MODEL_PATH.split(\"_img\")[0].split(\"_\")[-1]), int(MODEL_PATH.split(\"_img\")[0].split(\"_\")[-1]))\n",
        "INPUT_SHAPE = int(MODEL_PATH.split(\"_cc_\")[0].split(\"_\")[-1])\n",
        "\n",
        "# Setup directories\n",
        "if IS_LOCAL:\n",
        "  train_dir, test_dir = get_data.local_data(URL)\n",
        "else:\n",
        "  train_dir, test_dir = get_data.download_data(URL)\n",
        "\n",
        "# Setup device agnostic code\n",
        "device = \"cuda\" if torch.cuda.is_available() else \"cpu\"\n",
        "\n",
        "# Create or import transforms here\n",
        "\n",
        "# Create dataLoaders\n",
        "train_dataloader, test_dataloader, class_names = data_setup.create_dataloaders(train_dir=train_dir,\n",
        "                                                                               test_dir=test_dir,\n",
        "                                                                               batch_size=BATCH_SIZE,\n",
        "                                                                               img_size=IMG_SIZE)\n",
        "                                                                               #train_transform=data_transform\n",
        "                                                                               #test_transform=data_transform\n",
        "\n",
        "# Recreate an instance of TinyVGG\n",
        "model = model_builder.TinyVGG(input_shape=INPUT_SHAPE,\n",
        "                              hidden_units=HIDDEN_UNITS,\n",
        "                              output_shape=len(class_names)).to(device)\n",
        "\n",
        "# Setup loss function and optimizer\n",
        "loss_fn = nn.CrossEntropyLoss()\n",
        "\n",
        "# Load the model parameters\n",
        "model = utils.load_model(model=model, model_path=MODEL_PATH)\n",
        "\n",
        "# Test loop\n",
        "test_time_start = timer()\n",
        "loss, acc = 0, 0\n",
        "model.eval()\n",
        "\n",
        "with torch.inference_mode():\n",
        "  for X, y in tqdm(test_dataloader):\n",
        "    # Device agnostic code\n",
        "    X = X.to(device)\n",
        "    y = y.to(device)\n",
        "\n",
        "    # Forward pass and calculate the metrics\n",
        "    y_pred = model(X)\n",
        "    loss += loss_fn(y_pred, y)\n",
        "\n",
        "    y_pred_class = torch.argmax(torch.softmax(y_pred, dim=1), dim=1)\n",
        "    acc += (y_pred_class == y).sum().item()/len(y_pred)\n",
        "\n",
        "  # calculate total loss and accuracy (average)\n",
        "  loss /= len(test_dataloader)\n",
        "  acc /= len(test_dataloader)\n",
        "\n",
        "# End the timer and print out how long it took\n",
        "test_time_end = timer()\n",
        "\n",
        "# Print results\n",
        "print(f\"[INFO] Model: {model.__class__.__name__}\")\n",
        "print(f\"[INFO] Model loss: {loss:.4f}\")\n",
        "print(f\"[INFO] Model accuracy: {acc*100:.4f}%\")\n",
        "print(f\"[INFO] Model execution time: {test_time_end-test_time_start:.3f} seconds\")"
      ],
      "metadata": {
        "colab": {
          "base_uri": "https://localhost:8080/"
        },
        "id": "GMQVoBHokTs7",
        "outputId": "da0f0106-6066-481e-d6e8-55237c70b38e"
      },
      "execution_count": null,
      "outputs": [
        {
          "output_type": "stream",
          "name": "stdout",
          "text": [
            "Writing test.py\n"
          ]
        }
      ]
    },
    {
      "cell_type": "markdown",
      "source": [
        "## 8. Predict on custom data"
      ],
      "metadata": {
        "id": "DB6FjebzrUI1"
      }
    },
    {
      "cell_type": "code",
      "source": [
        "%%writefile predict.py\n",
        "\"\"\"\n",
        "Makes a prediction on a target image and plots the image\n",
        "with its prediction using a PyTorch model.\n",
        "\"\"\"\n",
        "\n",
        "# Importations\n",
        "import argparse\n",
        "from pathlib import Path\n",
        "import requests\n",
        "import matplotlib.pyplot as plt\n",
        "import torch\n",
        "import torchvision\n",
        "from torchvision import transforms\n",
        "from scripts import model_builder, utils\n",
        "\n",
        "# Device agnostic code\n",
        "device = \"cuda\" if torch.cuda.is_available() else \"cpu\"\n",
        "\n",
        "# Setup Parser\n",
        "parser = argparse.ArgumentParser(prog='Model predicting', description='Prediction using a PyTorch model.')\n",
        "\n",
        "parser.add_argument('--model', type=str, default=\"models/model.pth\")\n",
        "parser.add_argument('--local', action='store_true')\n",
        "parser.add_argument('--path', type=str, default=\"data/img.jpeg\")\n",
        "parser.add_argument('--classes', type=str)\n",
        "\n",
        "# Setup HyperParameters\n",
        "MODEL_PATH = parser.parse_args().model\n",
        "IS_LOCAL = parser.parse_args().local\n",
        "IMAGE_PATH = parser.parse_args().path\n",
        "IMAGE_NAME = IMAGE_PATH.split(\"/\")[-1]\n",
        "CLASSES = parser.parse_args().classes\n",
        "\n",
        "# Get HyperParameters\n",
        "HIDDEN_UNITS = int(MODEL_PATH.split(\"_hu\")[0].split(\"_\")[-1])\n",
        "INPUT_SHAPE = int(MODEL_PATH.split(\"_cc_\")[0].split(\"_\")[-1])\n",
        "IMG_SIZE = (int(MODEL_PATH.split(\"_img\")[0].split(\"_\")[-1]), int(MODEL_PATH.split(\"_img\")[0].split(\"_\")[-1]))\n",
        "CLASS_NAMES = CLASSES.split(\",\") if CLASSES else None\n",
        "assert CLASS_NAMES != None, \"Classes names are required\"\n",
        "\n",
        "# 1. Load in image and convert the tensor values to float32\n",
        "\n",
        "if IS_LOCAL:\n",
        "  target_image_path = Path(IMAGE_PATH)\n",
        "else:\n",
        "  dataset_path = Path(\"data/\")\n",
        "  dataset_path.mkdir(parents=True, exist_ok=True)\n",
        "  target_image_path = dataset_path / IMAGE_NAME\n",
        "\n",
        "  # Download the image if it doesn't exists\n",
        "  if not target_image_path.is_file():\n",
        "    with open(target_image_path, \"wb\") as f:\n",
        "      request = requests.get(IMAGE_PATH)\n",
        "      print(f\"Downloading {target_image_path}\")\n",
        "      f.write(request.content)\n",
        "  else:\n",
        "    print(\"The image already exists\")\n",
        "\n",
        "target_image = torchvision.io.read_image(target_image_path).type(torch.float32)\n",
        "\n",
        "# 2. Divide the image pixel values by 255 to get them between [0, 1]\n",
        "target_image = target_image / 255.\n",
        "# 3. Transform if necessary\n",
        "transform = transforms.Compose([\n",
        "    transforms.Resize(size=IMG_SIZE)\n",
        "])\n",
        "target_image = transform(target_image)\n",
        "\n",
        "# 4. Create and load a model\n",
        "model = model_builder.TinyVGG(input_shape=INPUT_SHAPE,\n",
        "                              hidden_units=HIDDEN_UNITS,\n",
        "                              output_shape=len(CLASS_NAMES)).to(device)\n",
        "\n",
        "model = utils.load_model(model=model, model_path=MODEL_PATH)\n",
        "\n",
        "# 5. Turn on model evaluation mode and inference mode\n",
        "model.eval()\n",
        "with torch.inference_mode():\n",
        "    # Add an extra dimension to the image\n",
        "    target_image = target_image.unsqueeze(dim=0)\n",
        "\n",
        "    # Make a prediction on image with an extra dimension and send it to the target device\n",
        "    target_image_pred = model(target_image.to(device))\n",
        "\n",
        "# 6. Convert logits -> prediction probabilities (using torch.softmax() for multi-class classification)\n",
        "target_image_pred_probs = torch.softmax(target_image_pred, dim=1)\n",
        "\n",
        "# 7. Convert prediction probabilities -> prediction labels\n",
        "target_image_pred_label = torch.argmax(target_image_pred_probs, dim=1)\n",
        "\n",
        "# 8. Plot the image alongside the prediction and prediction probability\n",
        "plt.imshow(target_image.squeeze().permute(1, 2, 0)) # make sure it's the right size for matplotlib\n",
        "if CLASS_NAMES:\n",
        "    title = f\"Pred: {CLASS_NAMES[target_image_pred_label.cpu()]} | Prob: {target_image_pred_probs.max().cpu():.3f}\"\n",
        "else:\n",
        "    title = f\"Pred: {target_image_pred_label} | Prob: {target_image_pred_probs.max().cpu():.3f}\"\n",
        "plt.title(title)\n",
        "plt.axis(False)\n",
        "\n",
        "save_path = f\"results/{IMAGE_NAME.split('.')[0]}_prediction.png\"\n",
        "plt.savefig(save_path)\n",
        "print(f\"[INFO] Prediction done and saved in: {save_path}\")"
      ],
      "metadata": {
        "id": "iOqXKQjqrc5Z",
        "colab": {
          "base_uri": "https://localhost:8080/"
        },
        "outputId": "5a9ceffd-c519-4ab7-e0a0-8e9fdcdddf07"
      },
      "execution_count": null,
      "outputs": [
        {
          "output_type": "stream",
          "name": "stdout",
          "text": [
            "Writing predict.py\n"
          ]
        }
      ]
    },
    {
      "cell_type": "markdown",
      "source": [
        "## 9. ALL IN"
      ],
      "metadata": {
        "id": "bDYee1pHu0fz"
      }
    },
    {
      "cell_type": "code",
      "source": [
        "!python train.py --epochs 5 --batch_size 32 --color_channels 3 --hidden_units 10 --lr 0.001 --img_size 64 --url \"https://github.com/mrdbourke/pytorch-deep-learning/raw/refs/heads/main/data/pizza_steak_sushi.zip\""
      ],
      "metadata": {
        "colab": {
          "base_uri": "https://localhost:8080/"
        },
        "id": "tYUqCubku2W_",
        "outputId": "c0e4d958-38ef-4d60-e2a9-0c4984d82620"
      },
      "execution_count": null,
      "outputs": [
        {
          "output_type": "stream",
          "name": "stdout",
          "text": [
            "Did not find data/pizza_steak_sushi directory, creating one...\n",
            "Downloading pizza_steak_sushi data...\n",
            "Unzipping pizza_steak_sushi data...\n",
            "  0% 0/5 [00:00<?, ?it/s] Epoch: 1 | train_loss: 1.1026 | train_acc: 0.2539 | test_loss: 1.0994 | test_acc: 0.2292\n",
            " 20% 1/5 [00:02<00:08,  2.08s/it] Epoch: 2 | train_loss: 1.1051 | train_acc: 0.3203 | test_loss: 1.1163 | test_acc: 0.1979\n",
            " 40% 2/5 [00:03<00:05,  1.83s/it] Epoch: 3 | train_loss: 1.0828 | train_acc: 0.4844 | test_loss: 1.0982 | test_acc: 0.3229\n",
            " 60% 3/5 [00:06<00:04,  2.25s/it] Epoch: 4 | train_loss: 1.0757 | train_acc: 0.4336 | test_loss: 1.0843 | test_acc: 0.3532\n",
            " 80% 4/5 [00:08<00:02,  2.17s/it] Epoch: 5 | train_loss: 1.0325 | train_acc: 0.6133 | test_loss: 1.0099 | test_acc: 0.5739\n",
            "100% 5/5 [00:11<00:00,  2.27s/it]\n",
            "[INFO] Total training time: 11.344 seconds\n",
            "[INFO] Saving model to: models/TinyVGG_model_5_ep_0.001_lr_32_bs_10_hu_3_cc_64_img#79.pth\n",
            "[INFO] Saving results to: results/TinyVGG_model_5_ep_0.001_lr_32_bs_10_hu_3_cc_64_img#79.csv\n"
          ]
        }
      ]
    },
    {
      "cell_type": "code",
      "source": [
        "!python test.py --model \"models/TinyVGG_model_5_ep_0.001_lr_32_bs_10_hu_3_cc_64_img#79.pth\" --url \"https://github.com/mrdbourke/pytorch-deep-learning/raw/refs/heads/main/data/pizza_steak_sushi.zip\""
      ],
      "metadata": {
        "colab": {
          "base_uri": "https://localhost:8080/"
        },
        "id": "AbCnTSLpu2ZG",
        "outputId": "e2364539-6876-4d4a-8541-2c0430a0bf41"
      },
      "execution_count": null,
      "outputs": [
        {
          "output_type": "stream",
          "name": "stdout",
          "text": [
            "data/pizza_steak_sushi directory exists.\n",
            "Downloading pizza_steak_sushi data...\n",
            "Unzipping pizza_steak_sushi data...\n",
            "[INFO] Loading model from: models/TinyVGG_model_5_ep_0.001_lr_32_bs_10_hu_3_cc_64_img#79.pth\n",
            "100% 3/3 [00:01<00:00,  2.85it/s]\n",
            "[INFO] Model: TinyVGG\n",
            "[INFO] Model loss: 1.0099\n",
            "[INFO] Model accuracy: 57.3864%\n",
            "[INFO] Model execution time: 1.083 seconds\n"
          ]
        }
      ]
    },
    {
      "cell_type": "code",
      "source": [
        "!python predict.py --model \"models/TinyVGG_model_5_ep_0.001_lr_32_bs_10_hu_3_cc_64_img#79.pth\" --path \"https://raw.githubusercontent.com/mrdbourke/pytorch-deep-learning/main/images/04-pizza-dad.jpeg\" --classes \"pizza,steak,sushi\""
      ],
      "metadata": {
        "colab": {
          "base_uri": "https://localhost:8080/"
        },
        "id": "77HNV6Skomwk",
        "outputId": "f65473dc-3a5f-4e11-b59a-8029ffd4f933"
      },
      "execution_count": null,
      "outputs": [
        {
          "output_type": "stream",
          "name": "stdout",
          "text": [
            "The image already exists\n",
            "[INFO] Loading model from: models/TinyVGG_model_5_ep_0.001_lr_32_bs_10_hu_3_cc_64_img#79.pth\n",
            "[INFO] Prediction done and saved in: results/04-pizza-dad_prediction.png\n"
          ]
        }
      ]
    },
    {
      "cell_type": "code",
      "source": [],
      "metadata": {
        "id": "CULTZE725L0c"
      },
      "execution_count": null,
      "outputs": []
    }
  ],
  "metadata": {
    "colab": {
      "provenance": [],
      "collapsed_sections": [
        "1XgXFr97bCsI",
        "eYL6NynybU9Z",
        "gAQLp1dCbrY0",
        "8OB4xIsXcHrp"
      ],
      "include_colab_link": true
    },
    "kernelspec": {
      "display_name": "Python 3",
      "name": "python3"
    },
    "language_info": {
      "codemirror_mode": {
        "name": "ipython",
        "version": 3
      },
      "file_extension": ".py",
      "mimetype": "text/x-python",
      "name": "python",
      "nbconvert_exporter": "python",
      "pygments_lexer": "ipython3",
      "version": "3.9.7"
    }
  },
  "nbformat": 4,
  "nbformat_minor": 0
}